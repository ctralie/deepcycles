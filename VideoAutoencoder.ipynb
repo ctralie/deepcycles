{
 "cells": [
  {
   "cell_type": "markdown",
   "id": "ae3e539f",
   "metadata": {},
   "source": [
    "# Video Autoencoder\n"
   ]
  },
  {
   "cell_type": "code",
   "execution_count": null,
   "id": "61284604",
   "metadata": {
    "scrolled": true
   },
   "outputs": [],
   "source": [
    "%load_ext autoreload\n",
    "%autoreload 2\n",
    "from persim import plot_diagrams\n",
    "from takenslayers import *\n",
    "from takenspipelines import *\n",
    "from videoutils import *\n",
    "import matplotlib.pyplot as plt\n",
    "\n",
    "import math\n",
    "\n",
    "import numpy as np\n",
    "from scipy.signal import convolve\n",
    "from skimage.transform import resize\n",
    "\n",
    "import torch\n",
    "from torch.autograd import Variable\n",
    "from torch import nn\n",
    "from torch.autograd import Variable\n",
    "from torch.nn import functional as F\n",
    "import torchvision.transforms as T\n",
    "\n",
    "torch.manual_seed(2)"
   ]
  },
  {
   "cell_type": "code",
   "execution_count": null,
   "id": "b7564339",
   "metadata": {},
   "outputs": [],
   "source": [
    "frames = load_video(\"Videos/face.mp4\", make_rgb=True)\n",
    "X = np.moveaxis(frames, [0, 1, 2, 3], [2, 3, 1, 0])\n",
    "X = np.array(X, dtype=float)/255\n",
    "X = X[:, :, 0:512, 0:512]\n",
    "plt.imshow(np.moveaxis(X[0, :, :, :], (0, 1, 2), (2, 0, 1)))\n",
    "print(\"X.shape\", X.shape)\n",
    "data = torch.from_numpy(X).float()"
   ]
  },
  {
   "cell_type": "code",
   "execution_count": null,
   "id": "8f06c9ff",
   "metadata": {
    "scrolled": true
   },
   "outputs": [],
   "source": [
    "def get_device():\n",
    "    if torch.cuda.is_available():\n",
    "        device = 'cuda:0'\n",
    "    else:\n",
    "        device = 'cpu'\n",
    "    return 'cpu'#device\n",
    "device = get_device()\n",
    "print(device)\n",
    "data = data.to(device)\n",
    "autoencoder = VideoAutoencoderCNN(device, data, depth=3, dim=100, lr=0.001, last_layer=nn.Sigmoid)\n",
    "autoencoder = autoencoder.to(device)\n",
    "y = autoencoder.train_epochs(300, plot_interval=1)"
   ]
  },
  {
   "cell_type": "code",
   "execution_count": null,
   "id": "a6e85444",
   "metadata": {},
   "outputs": [],
   "source": [
    "res = np.array(y.cpu().detach().numpy())\n",
    "frames_res = np.moveaxis(res, (2, 3, 0, 1), (0, 1, 3, 2))\n",
    "frames_res = np.array(frames_res*255, dtype=np.uint8)\n",
    "frames_res[frames_res < 0] = 0\n",
    "frames_res[frames_res > 255] = 255\n",
    "save_video(\"result.avi\", frames_res, is_rgb=True)"
   ]
  }
 ],
 "metadata": {
  "kernelspec": {
   "display_name": "Python 3 (ipykernel)",
   "language": "python",
   "name": "python3"
  },
  "language_info": {
   "codemirror_mode": {
    "name": "ipython",
    "version": 3
   },
   "file_extension": ".py",
   "mimetype": "text/x-python",
   "name": "python",
   "nbconvert_exporter": "python",
   "pygments_lexer": "ipython3",
   "version": "3.9.7"
  }
 },
 "nbformat": 4,
 "nbformat_minor": 5
}
