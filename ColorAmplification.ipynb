{
 "cells": [
  {
   "cell_type": "markdown",
   "id": "ae3e539f",
   "metadata": {},
   "source": [
    "# Detrending Periodic Motions in Video\n",
    "\n",
    "The goal of this notebook is to demonstrate a proof of concept for cleaning up periodic motions in videos.  If the input is a periodically oscillating blob with an additive random walk, the network will try to remove the random walk and only be left with the periodic motion"
   ]
  },
  {
   "cell_type": "code",
   "execution_count": null,
   "id": "61284604",
   "metadata": {
    "scrolled": true
   },
   "outputs": [],
   "source": [
    "%load_ext autoreload\n",
    "%autoreload 2\n",
    "from persim import plot_diagrams\n",
    "from takenslayers import *\n",
    "from takenspipelines import *\n",
    "from videoutils import *\n",
    "import matplotlib.pyplot as plt\n",
    "\n",
    "import math\n",
    "\n",
    "import numpy as np\n",
    "from scipy.signal import convolve\n",
    "from skimage.transform import resize\n",
    "\n",
    "import torch\n",
    "from torch.autograd import Variable\n",
    "from torch import nn\n",
    "from torch.autograd import Variable\n",
    "from torch.nn import functional as F\n",
    "import torchvision.transforms as T\n",
    "\n",
    "torch.manual_seed(2)"
   ]
  },
  {
   "cell_type": "code",
   "execution_count": null,
   "id": "b7564339",
   "metadata": {},
   "outputs": [],
   "source": [
    "frames = load_video(\"Videos/face.mp4\", make_rgb=True)\n",
    "#frames = frames[:, :, :, 100::]\n",
    "win = 40\n",
    "\n",
    "X = np.moveaxis(frames, [0, 1, 2, 3], [2, 3, 1, 0])\n",
    "X = np.array(X, dtype=float)/255\n",
    "X = X[:, :, 0:512, 0:512]\n",
    "#XMu = np.mean(X, axis=0)\n",
    "#X -= XMu[None, :, :, :]\n",
    "#XMax = np.max(np.abs(X))\n",
    "#X /= XMax\n",
    "\n",
    "\n",
    "#XOut = X/np.max(X)\n",
    "#XOut = np.array(255*X, dtype=np.uint8)\n",
    "#XOut = np.moveaxis(XOut, [2, 3, 1, 0], [0, 1, 2, 3])\n",
    "#save_video(\"MeanSubtract.avi\", XOut, is_rgb=True)\n",
    "\n",
    "\n",
    "#XR = np.reshape(X, (X.shape[0], X.shape[1], X.shape[2]*X.shape[3]))\n",
    "#XR = np.moveaxis(XR, [0, 1, 2], [2, 0, 1])\n",
    "#XR = np.reshape(XR, (XR.shape[0], XR.shape[1]*XR.shape[2]))\n",
    "#print(np.std(XR, axis=1))\n",
    "print(\"X.shape\", X.shape)\n",
    "data = torch.from_numpy(X).float()\n",
    "\n",
    "bl = BandpassLayer(0.5, 3, 30)\n",
    "#data = bl(data)\n",
    "print(\"data.shape\", data.shape)\n",
    "\n",
    "batch_norm = torch.nn.BatchNorm2d(3)\n",
    "vid_dist = SlidingVideoDistanceMatrixLayer(win, 'cpu')\n",
    "rips = RipsPersistenceDistance([1])\n",
    "D = vid_dist(batch_norm(bl(data)))\n",
    "dgm = rips(D)[0]\n",
    "\n",
    "plt.figure(figsize=(12, 6))\n",
    "plt.subplot(121)\n",
    "plt.imshow(D.detach().numpy())\n",
    "plt.colorbar()\n",
    "plt.title(\"Original SSM\")\n",
    "plt.subplot(122)\n",
    "dgm = dgm.detach().numpy()\n",
    "if dgm.size > 0:\n",
    "    plot_diagrams(dgm, labels=[\"H1\"])\n",
    "plt.title(\"Original Persistence Diagram\")"
   ]
  },
  {
   "cell_type": "code",
   "execution_count": null,
   "id": "8f06c9ff",
   "metadata": {
    "scrolled": true
   },
   "outputs": [],
   "source": [
    "def get_device():\n",
    "    if torch.cuda.is_available():\n",
    "        device = 'cuda:0'\n",
    "    else:\n",
    "        device = 'cpu'\n",
    "    return 'cpu'#device\n",
    "\n",
    "print(\"win = \", win)\n",
    "block_win = 80\n",
    "block_hop = 4\n",
    "device = get_device()\n",
    "print(device)\n",
    "data = data.to(device)\n",
    "autoencoder = BlockRipsRegularizedAutoencoderCNN(device, data, depth=3, dim=100, win=win, block_win=block_win,\n",
    "                                            block_hop=block_hop, lam_block=0.0005, lam_var = 0, lr=0.001, last_layer=nn.Sigmoid)\n",
    "#autoencoder = RipsRegularizedAutoencoderCNN(device, data, depth=3, dim=100, win=win, lam=0.001, lr=0.001, last_layer=nn.Sigmoid)\n",
    "autoencoder = autoencoder.to(device)\n",
    "\n",
    "y = autoencoder.train_epochs(300, plot_interval=1)"
   ]
  },
  {
   "cell_type": "code",
   "execution_count": null,
   "id": "a6e85444",
   "metadata": {},
   "outputs": [],
   "source": [
    "amp_fac=4\n",
    "res = np.array(y.cpu().detach().numpy())\n",
    "mu = np.mean(res, axis=0)\n",
    "res -= mu\n",
    "res *= amp_fac\n",
    "res += mu\n",
    "#res *= XMax*amp_fac\n",
    "#res += XMu[None, :, :, :]\n",
    "frames_res = np.moveaxis(res, (2, 3, 0, 1), (0, 1, 3, 2))\n",
    "\n",
    "plt.subplot(211)\n",
    "plt.plot(frames[64, 64, 0, :]/255)\n",
    "plt.subplot(212)\n",
    "plt.plot(res[:, 0, 64, 64])\n",
    "#print(XMu.shape)"
   ]
  },
  {
   "cell_type": "code",
   "execution_count": null,
   "id": "beb6fa26",
   "metadata": {},
   "outputs": [],
   "source": [
    "frames_res = np.array(frames_res*255, dtype=np.uint8)\n",
    "frames_res[frames_res < 0] = 0\n",
    "frames_res[frames_res > 255] = 255\n",
    "save_video(\"result.avi\", frames_res, is_rgb=True)"
   ]
  },
  {
   "cell_type": "code",
   "execution_count": null,
   "id": "d3da70b2",
   "metadata": {},
   "outputs": [],
   "source": []
  }
 ],
 "metadata": {
  "kernelspec": {
   "display_name": "Python 3 (ipykernel)",
   "language": "python",
   "name": "python3"
  },
  "language_info": {
   "codemirror_mode": {
    "name": "ipython",
    "version": 3
   },
   "file_extension": ".py",
   "mimetype": "text/x-python",
   "name": "python",
   "nbconvert_exporter": "python",
   "pygments_lexer": "ipython3",
   "version": "3.9.7"
  }
 },
 "nbformat": 4,
 "nbformat_minor": 5
}
